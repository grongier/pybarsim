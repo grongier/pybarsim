{
 "cells": [
  {
   "cell_type": "markdown",
   "id": "c4c147f1",
   "metadata": {},
   "source": [
    "# How to use pyBarSim?\n",
    "***\n",
    "### Imports"
   ]
  },
  {
   "cell_type": "code",
   "execution_count": null,
   "id": "f76292dc",
   "metadata": {},
   "outputs": [],
   "source": [
    "import numpy as np\n",
    "import pyvista as pv\n",
    "import matplotlib.pyplot as plt\n",
    "import matplotlib.animation as animation\n",
    "from IPython.display import HTML\n",
    "\n",
    "from pybarsim import BarSim2D, BarSimPseudo3D"
   ]
  },
  {
   "cell_type": "markdown",
   "id": "bf4f2100",
   "metadata": {},
   "source": [
    "### Setup\n",
    "Setting the backend for PyVista (3D visualization):"
   ]
  },
  {
   "cell_type": "code",
   "execution_count": null,
   "id": "95e847a5",
   "metadata": {},
   "outputs": [],
   "source": [
    "pv.set_jupyter_backend('panel')"
   ]
  },
  {
   "cell_type": "markdown",
   "id": "f48f6a34",
   "metadata": {},
   "source": [
    "# BarSim in 2D"
   ]
  },
  {
   "cell_type": "markdown",
   "id": "72f0c691",
   "metadata": {},
   "source": [
    "Define the initial elevation and the inflection points for the variations of sea level and sediment supply:"
   ]
  },
  {
   "cell_type": "code",
   "execution_count": null,
   "id": "5d767177",
   "metadata": {},
   "outputs": [],
   "source": [
    "initial_elevation = np.linspace(1000., 900., 200)\n",
    "spacing = 100.\n",
    "\n",
    "duration = 25000.\n",
    "sea_level_curve = np.array([\n",
    "    (0., 998.),\n",
    "    (0.25*duration, 985.),\n",
    "    (0.5*duration, 975.),\n",
    "    (0.75*duration, 985.),\n",
    "    (duration + 20., 998.)\n",
    "])\n",
    "sediment_supply_curve = np.array([\n",
    "    (0., 25.),\n",
    "    (0.25*duration, 25.),\n",
    "    (0.5*duration, 25.),\n",
    "    (0.75*duration, 5.),\n",
    "    (duration + 20., 5.)\n",
    "])"
   ]
  },
  {
   "cell_type": "markdown",
   "id": "639806d0",
   "metadata": {},
   "source": [
    "Initialize a *BarSim2D* object, run the simulation, and interpolate on a regular grid:\n",
    "\n",
    "&#9888; This takes more time to run the first time because Numba needs to compile the Python code (around 15 s against less than 1 s for the following runs)."
   ]
  },
  {
   "cell_type": "code",
   "execution_count": null,
   "id": "e96562cb",
   "metadata": {},
   "outputs": [],
   "source": [
    "%%time\n",
    "\n",
    "barsim = BarSim2D(initial_elevation,\n",
    "                  sea_level_curve,\n",
    "                  sediment_supply_curve,\n",
    "                  spacing=spacing,\n",
    "                  ow_part=0.5,\n",
    "                  mode=2,\n",
    "                  W_fw=1.5,\n",
    "                  W_event=6.,\n",
    "                  Tidalampl=2,\n",
    "                  Tide_Acc_VAR=100,\n",
    "                  TidalSand=0.3,\n",
    "                  dh_ratio_acc=200000,\n",
    "                  TDcorr_SF=1.5,\n",
    "                  TDcorr_OW=1.,\n",
    "                  erodibility=0.1,\n",
    "                  BB_max_width=500,\n",
    "                  A_factor_BB=5,\n",
    "                  A_factor_SF=10,\n",
    "                  max_height_SF=1.,\n",
    "                  max_height_BB=1.,\n",
    "                  substrate_erosion=1,\n",
    "                  fallout_rate_bb=0.,\n",
    "                  fallout_rate_sf=0.0002,\n",
    "                  texture=(5., 50., 125., 250.),\n",
    "                  texture_ratio=(0.25, 0.25, 0.25, 0.25),\n",
    "                  initial_substratum=(100., (0.2, 0.2, 0.3, 0.3)),\n",
    "                  event=False,\n",
    "                  preinterpolate_curves=True,\n",
    "                  seed=42)\n",
    "barsim.run(duration, dt_min=1., dt_fw=15.)\n",
    "barsim.regrid(900., 1000., 0.5)"
   ]
  },
  {
   "cell_type": "markdown",
   "id": "2fd9cd7e",
   "metadata": {},
   "source": [
    "*run* creates *sequence_*, a [xarray](https://docs.xarray.dev/en/stable/) dataset containing the variations of sea level, sediment supply, elevation, stratigraphy, and facies through time:"
   ]
  },
  {
   "cell_type": "code",
   "execution_count": null,
   "id": "84ee5e33",
   "metadata": {},
   "outputs": [],
   "source": [
    "barsim.sequence_"
   ]
  },
  {
   "cell_type": "markdown",
   "id": "f8bf4913",
   "metadata": {},
   "source": [
    "*regrid* creates *record_* a [xarray](https://docs.xarray.dev/en/stable/) dataset containing the regions (0. air, 1. deposits, 2. substratum), the median grain size, and the stratigraphy interpolated in space:"
   ]
  },
  {
   "cell_type": "code",
   "execution_count": null,
   "id": "036bc2c1",
   "metadata": {},
   "outputs": [],
   "source": [
    "barsim.record_"
   ]
  },
  {
   "cell_type": "markdown",
   "id": "20ac0928",
   "metadata": {},
   "source": [
    "Plot the resulting grid using [xarray's plotting functions](https://docs.xarray.dev/en/stable/user-guide/plotting.html?highlight=plotting):"
   ]
  },
  {
   "cell_type": "code",
   "execution_count": null,
   "id": "ffb1ca54",
   "metadata": {},
   "outputs": [],
   "source": [
    "barsim.record_['Median grain size'].plot(figsize=(12, 4))"
   ]
  },
  {
   "cell_type": "code",
   "execution_count": null,
   "id": "775c8aee",
   "metadata": {},
   "outputs": [],
   "source": [
    "barsim.record_['Major facies'].plot(figsize=(12, 4), cmap='Accent')"
   ]
  },
  {
   "cell_type": "markdown",
   "id": "f6cf32e6",
   "metadata": {},
   "source": [
    "Animate the sea level and elevation through time using [matplotlib](https://matplotlib.org/stable/api/animation_api.html):\n",
    "\n",
    "&#9888; This takes about 45 s to run."
   ]
  },
  {
   "cell_type": "code",
   "execution_count": null,
   "id": "a7da9ab1",
   "metadata": {},
   "outputs": [],
   "source": [
    "fig, ax = plt.subplots(figsize=(12, 4))\n",
    "\n",
    "step = 8\n",
    "time = barsim.sequence_['Time'][::step]\n",
    "sea_level = barsim.sequence_['Sea level'][::step]\n",
    "elevation = barsim.sequence_['Elevation'][::step]\n",
    "\n",
    "def update(i):\n",
    "    label_time.set_text(str(round(int(time[i]), -min(2, int(np.log10(time[i] + 1e-8))))) + ' yr')\n",
    "    ax.collections.clear()\n",
    "    ax.fill_between(barsim.sequence_['X'], elevation.min(), sea_level[i], edgecolor='#6baed6', facecolor='#c6dbef', zorder=0)\n",
    "    ax.fill_between(barsim.sequence_['X'], elevation.min(), elevation[i], color='#fff7bc', zorder=1)\n",
    "    k = 0\n",
    "    for j in range(i):\n",
    "        if j%15 == 0:\n",
    "            elevation_prev = elevation[j].to_numpy().copy()\n",
    "            elevation_prev[elevation_prev > elevation[i]] = elevation[i][elevation_prev > elevation[i]]\n",
    "            lines_elevation_prev[k].set_data((barsim.sequence_['X'], elevation_prev))\n",
    "            k += 1\n",
    "    line_elevation.set_ydata(elevation[i])\n",
    "    return label_time, line_elevation, lines_elevation_prev\n",
    "\n",
    "ax.annotate('Time:', (0.85, 0.92), xycoords='axes fraction')\n",
    "label_time = ax.annotate(str(round(int(time[0]), -min(2, int(np.log10(time[0] + 1e-8))))) + ' yr', (0.965, 0.92), ha='right', xycoords='axes fraction')\n",
    "ax.fill_between(barsim.sequence_['X'], elevation.min(), sea_level[0], edgecolor='#6baed6', facecolor='#c6dbef', zorder=0)\n",
    "ax.fill_between(barsim.sequence_['X'], elevation.min(), elevation[0], color='#fff7bc', zorder=1)\n",
    "lines_elevation_prev = [ax.plot([], [], c='0.5', lw=0.5, zorder=2)[0] for i in range(len(elevation[::15]))]\n",
    "line_elevation, = ax.plot(barsim.sequence_['X'], elevation[0], c='k', lw=1.5, zorder=3)\n",
    "ax.set_xlim(barsim.sequence_['X'][0], barsim.sequence_['X'][-1])\n",
    "ax.set_ylim(elevation.min(), elevation.max() + 20.)\n",
    "ax.set_xlabel('x (m)')\n",
    "ax.set_ylabel('z (m)')\n",
    "\n",
    "plt.close()\n",
    "\n",
    "ani = animation.FuncAnimation(fig, update, len(sea_level), interval=50)\n",
    "HTML(ani.to_jshtml())"
   ]
  },
  {
   "cell_type": "markdown",
   "id": "155fdb6b",
   "metadata": {},
   "source": [
    "# BarSim in 2.5D"
   ]
  },
  {
   "cell_type": "markdown",
   "id": "e5850f2c",
   "metadata": {},
   "source": [
    "Define the initial elevation and the inflection points for the variations of sea level and sediment supply:"
   ]
  },
  {
   "cell_type": "code",
   "execution_count": null,
   "id": "330ca13f",
   "metadata": {},
   "outputs": [],
   "source": [
    "initial_elevation = np.linspace(np.linspace(1000., 900., 200), np.linspace(1000., 850., 200), 200)\n",
    "spacing = (100., 100.)\n",
    "\n",
    "duration = 25000.\n",
    "sea_level_curve = np.array([\n",
    "    (0., 998.),\n",
    "    (0.25*duration, 985.),\n",
    "    (0.5*duration, 975.),\n",
    "    (0.75*duration, 985.),\n",
    "    (duration + 20., 998.)\n",
    "])\n",
    "sediment_supply_curve = np.array([\n",
    "    np.tile([[0.], [0.25*duration], [0.5*duration], [0.75*duration], [duration + 20.]], 200),\n",
    "    np.vstack([\n",
    "        np.linspace(25., 5., 200),\n",
    "        np.linspace(25., 5., 200),\n",
    "        np.linspace(25., 5., 200),\n",
    "        np.linspace(5., 1., 200),\n",
    "        np.linspace(5., 1., 200),\n",
    "    ])\n",
    "]).T"
   ]
  },
  {
   "cell_type": "markdown",
   "id": "69477fd3",
   "metadata": {},
   "source": [
    "Initialize a *BarSimPseudo3D* object, run the simulation and interpolate on a regular grid (in a single step):"
   ]
  },
  {
   "cell_type": "code",
   "execution_count": null,
   "id": "9aa8f103",
   "metadata": {},
   "outputs": [],
   "source": [
    "%%time\n",
    "\n",
    "barsim = BarSimPseudo3D(initial_elevation,\n",
    "                        sea_level_curve,\n",
    "                        sediment_supply_curve,\n",
    "                        spacing=spacing,\n",
    "                        ow_part=0.5,\n",
    "                        mode=2,\n",
    "                        W_fw=1.5,\n",
    "                        W_event=6.,\n",
    "                        Tidalampl=2,\n",
    "                        Tide_Acc_VAR=100,\n",
    "                        TidalSand=0.3,\n",
    "                        dh_ratio_acc=200000,\n",
    "                        TDcorr_SF=1.5,\n",
    "                        TDcorr_OW=1.,\n",
    "                        erodibility=0.1,\n",
    "                        BB_max_width=500,\n",
    "                        A_factor_BB=5,\n",
    "                        A_factor_SF=10,\n",
    "                        max_height_SF=1.,\n",
    "                        max_height_BB=1.,\n",
    "                        substrate_erosion=1,\n",
    "                        fallout_rate_bb=0.,\n",
    "                        fallout_rate_sf=0.0002,\n",
    "                        texture=(5., 50., 125., 250.),\n",
    "                        texture_ratio=(0.25, 0.25, 0.25, 0.25),\n",
    "                        initial_substratum=(200., (0.2, 0.2, 0.3, 0.3)),\n",
    "                        event=False,\n",
    "                        preinterpolate_curves=True,\n",
    "                        seed=42)\n",
    "barsim.run(850., 1000., 0.5, duration, dt_min=1., dt_fw=15.)"
   ]
  },
  {
   "cell_type": "markdown",
   "id": "c406aa9f",
   "metadata": {},
   "source": [
    "Here *run* directly creates *record_*:"
   ]
  },
  {
   "cell_type": "code",
   "execution_count": null,
   "id": "37f062be",
   "metadata": {},
   "outputs": [],
   "source": [
    "barsim.record_"
   ]
  },
  {
   "cell_type": "markdown",
   "id": "6b663c4f",
   "metadata": {},
   "source": [
    "Plot sections through the resulting 3D grid using [xarray's plotting functions](https://docs.xarray.dev/en/stable/user-guide/plotting.html?highlight=plotting):"
   ]
  },
  {
   "cell_type": "code",
   "execution_count": null,
   "id": "7cf13aff",
   "metadata": {},
   "outputs": [],
   "source": [
    "barsim.record_['Median grain size'][-10].plot(figsize=(8, 6))"
   ]
  },
  {
   "cell_type": "code",
   "execution_count": null,
   "id": "13877415",
   "metadata": {},
   "outputs": [],
   "source": [
    "barsim.record_['Median grain size'][..., 100].plot(figsize=(12, 5))"
   ]
  },
  {
   "cell_type": "markdown",
   "id": "78d9222e",
   "metadata": {},
   "source": [
    "Create a [PyVista](https://docs.pyvista.org/) mesh for 3D visualization of the sedimentary deposits:"
   ]
  },
  {
   "cell_type": "code",
   "execution_count": null,
   "id": "f07d369b",
   "metadata": {},
   "outputs": [],
   "source": [
    "mesh = barsim.mesh(zscale=50.)"
   ]
  },
  {
   "cell_type": "markdown",
   "id": "a4c05e13",
   "metadata": {},
   "source": [
    "Visualize the full 2.5D deposits:"
   ]
  },
  {
   "cell_type": "code",
   "execution_count": null,
   "id": "5ac9d362",
   "metadata": {},
   "outputs": [],
   "source": [
    "p = pv.Plotter(notebook=True)\n",
    "p.add_mesh(mesh.threshold(), scalars='Median grain size', lighting=False)\n",
    "p.show()"
   ]
  },
  {
   "cell_type": "markdown",
   "id": "ca4e54a9",
   "metadata": {},
   "source": [
    "Visualize slices through the deposits:"
   ]
  },
  {
   "cell_type": "code",
   "execution_count": null,
   "id": "9cfcf248",
   "metadata": {},
   "outputs": [],
   "source": [
    "p = pv.Plotter(notebook=True)\n",
    "p.add_mesh(mesh.threshold().slice_along_axis(n=10, axis='x'), scalars='Median grain size', lighting=False)\n",
    "p.add_mesh(mesh.threshold().slice_along_axis(n=10, axis='y'), scalars='Median grain size', lighting=False)\n",
    "p.show()"
   ]
  },
  {
   "cell_type": "code",
   "execution_count": null,
   "id": "31380684",
   "metadata": {},
   "outputs": [],
   "source": [
    "p = pv.Plotter(notebook=True)\n",
    "p.add_mesh(mesh.threshold().slice_along_axis(n=10, axis='x'), scalars='Major facies', lighting=False)\n",
    "p.add_mesh(mesh.threshold().slice_along_axis(n=10, axis='y'), scalars='Major facies', lighting=False)\n",
    "p.show()"
   ]
  }
 ],
 "metadata": {
  "kernelspec": {
   "display_name": "Python 3 (ipykernel)",
   "language": "python",
   "name": "python3"
  },
  "language_info": {
   "codemirror_mode": {
    "name": "ipython",
    "version": 3
   },
   "file_extension": ".py",
   "mimetype": "text/x-python",
   "name": "python",
   "nbconvert_exporter": "python",
   "pygments_lexer": "ipython3",
   "version": "3.10.2"
  }
 },
 "nbformat": 4,
 "nbformat_minor": 5
}
