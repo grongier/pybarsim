{
 "cells": [
  {
   "cell_type": "markdown",
   "id": "98f09d53-5177-4944-b5e6-d787fa320009",
   "metadata": {},
   "source": [
    "<span style=\"float:right;\"><a href=\"https://opensource.org/licenses/MIT\">\n",
    "    <img src=\"https://img.shields.io/badge/License-MIT-green.svg\" />\n",
    "</a></span>\n",
    "<span style=\"float:right; display:inline-block; margin: 2.5px 5px;\"><a href=\"https://creativecommons.org/licenses/by/4.0/\">\n",
    "    <img src=\"https://licensebuttons.net/l/by/4.0/80x15.png\" />\n",
    "</a></span>"
   ]
  },
  {
   "cell_type": "markdown",
   "id": "c4c147f1",
   "metadata": {},
   "source": [
    "# How to use pyBarSim?"
   ]
  },
  {
   "cell_type": "markdown",
   "id": "f89108b0-8cf3-4cc3-b87a-5e1a7ec62555",
   "metadata": {},
   "source": [
    "**Author:** Guillaume Rongier\n",
    "<br></br>"
   ]
  },
  {
   "cell_type": "markdown",
   "id": "a70c651a-9517-4414-b8cd-2a012d9e9ea0",
   "metadata": {},
   "source": [
    "In this notebook, we will look at different functionalities of pyBarSim to simulate the deposits of wave-dominated shallow-marine environments in 2D and 2.5D."
   ]
  },
  {
   "cell_type": "markdown",
   "id": "df6f1038-8d98-4e3a-a003-978e2d3de693",
   "metadata": {},
   "source": [
    "### Imports"
   ]
  },
  {
   "cell_type": "code",
   "execution_count": null,
   "id": "f76292dc",
   "metadata": {},
   "outputs": [],
   "source": [
    "import numpy as np\n",
    "import pyvista as pv\n",
    "import matplotlib.pyplot as plt\n",
    "import matplotlib.animation as animation\n",
    "from IPython.display import HTML\n",
    "\n",
    "from pybarsim import BarSim2D, BarSimPseudo3D"
   ]
  },
  {
   "cell_type": "markdown",
   "id": "f48f6a34",
   "metadata": {},
   "source": [
    "## BarSim in 2D"
   ]
  },
  {
   "cell_type": "markdown",
   "id": "72f0c691",
   "metadata": {},
   "source": [
    "Define the initial elevation and the inflection points for the variations of sea level and sediment supply:"
   ]
  },
  {
   "cell_type": "code",
   "execution_count": null,
   "id": "5d767177",
   "metadata": {},
   "outputs": [],
   "source": [
    "initial_elevation = np.linspace(1000., 900., 200)\n",
    "spacing = 100.\n",
    "\n",
    "run_time = 25000.\n",
    "sea_level_curve = np.array([\n",
    "    (0., 998.),\n",
    "    (0.25*run_time, 985.),\n",
    "    (0.5*run_time, 975.),\n",
    "    (0.75*run_time, 985.),\n",
    "    (run_time + 20., 998.)\n",
    "])\n",
    "sediment_supply_curve = np.array([\n",
    "    (0., 25.),\n",
    "    (0.25*run_time, 25.),\n",
    "    (0.5*run_time, 25.),\n",
    "    (0.75*run_time, 5.),\n",
    "    (run_time + 20., 5.)\n",
    "])"
   ]
  },
  {
   "cell_type": "markdown",
   "id": "639806d0",
   "metadata": {},
   "source": [
    "Initialize a *BarSim2D* object, run the simulation, and interpolate on a regular grid:\n",
    "\n",
    "&#9888; This takes more time to run the first time because Numba needs to compile the Python code (around 15 s against less than 1 s for the following runs)."
   ]
  },
  {
   "cell_type": "code",
   "execution_count": null,
   "id": "e96562cb",
   "metadata": {},
   "outputs": [],
   "source": [
    "%%time\n",
    "\n",
    "barsim = BarSim2D(initial_elevation,\n",
    "                  sea_level_curve,\n",
    "                  sediment_supply_curve,\n",
    "                  spacing=100.,\n",
    "                  max_wave_height_fair_weather=1.5,\n",
    "                  allow_storms=True,\n",
    "                  start_with_storm=False,\n",
    "                  max_wave_height_storm=6.,\n",
    "                  tidal_amplitude=2.,\n",
    "                  min_tidal_area_for_transport=100.,\n",
    "                  sediment_size=(5., 50., 125., 250.),\n",
    "                  sediment_fraction=(0.25, 0.25, 0.25, 0.25),\n",
    "                  initial_substratum=(100., (0.25, 0.25, 0.25, 0.25)),\n",
    "                  erodibility=0.1,\n",
    "                  washover_fraction=0.5,\n",
    "                  tide_sand_fraction=0.3,\n",
    "                  depth_factor_backbarrier=5.,\n",
    "                  depth_factor_shoreface=10.,\n",
    "                  local_factor_shoreface=1.5,\n",
    "                  local_factor_backbarrier=1.,\n",
    "                  fallout_rate_backbarrier=0.,\n",
    "                  fallout_rate_shoreface=0.0002,\n",
    "                  max_width_backbarrier=500.,\n",
    "                  preinterpolate_curves=False,\n",
    "                  monotonic=True,\n",
    "                  seed=42)\n",
    "barsim.run(run_time, dt_fair_weather=15., dt_storm=1.)\n",
    "barsim.regrid(900., 1000., 0.5)\n",
    "barsim.summarize()"
   ]
  },
  {
   "cell_type": "markdown",
   "id": "2fd9cd7e",
   "metadata": {},
   "source": [
    "*run* creates *sequence_*, a [xarray](https://docs.xarray.dev/en/stable/) dataset containing the variations of sea level, sediment supply, elevation, stratigraphy, and facies through time:"
   ]
  },
  {
   "cell_type": "code",
   "execution_count": null,
   "id": "84ee5e33",
   "metadata": {},
   "outputs": [],
   "source": [
    "barsim.sequence_"
   ]
  },
  {
   "cell_type": "markdown",
   "id": "f8bf4913",
   "metadata": {},
   "source": [
    "*regrid* creates *record_* a [xarray](https://docs.xarray.dev/en/stable/) dataset containing the stratigraphy, facies, and, if *summarize* has been called, the mean grain size, the sorting term, and the major facies interpolated in space:"
   ]
  },
  {
   "cell_type": "code",
   "execution_count": null,
   "id": "036bc2c1",
   "metadata": {},
   "outputs": [],
   "source": [
    "barsim.record_"
   ]
  },
  {
   "cell_type": "markdown",
   "id": "20ac0928",
   "metadata": {},
   "source": [
    "Plot the resulting grid using [xarray's plotting functions](https://docs.xarray.dev/en/stable/user-guide/plotting.html?highlight=plotting):"
   ]
  },
  {
   "cell_type": "code",
   "execution_count": null,
   "id": "ffb1ca54",
   "metadata": {},
   "outputs": [],
   "source": [
    "barsim.record_['Mean grain size'].plot(figsize=(12, 4))"
   ]
  },
  {
   "cell_type": "code",
   "execution_count": null,
   "id": "88507792",
   "metadata": {},
   "outputs": [],
   "source": [
    "barsim.record_['Sorting term'].plot(figsize=(12, 4))"
   ]
  },
  {
   "cell_type": "code",
   "execution_count": null,
   "id": "775c8aee",
   "metadata": {},
   "outputs": [],
   "source": [
    "barsim.record_['Major facies'].plot(figsize=(12, 4), cmap='Accent')"
   ]
  },
  {
   "cell_type": "markdown",
   "id": "f6cf32e6",
   "metadata": {},
   "source": [
    "Animate the sea level and elevation through time using [matplotlib](https://matplotlib.org/stable/api/animation_api.html):\n",
    "\n",
    "&#9888; This takes some time to run."
   ]
  },
  {
   "cell_type": "code",
   "execution_count": null,
   "id": "a7da9ab1",
   "metadata": {},
   "outputs": [],
   "source": [
    "fig, ax = plt.subplots(figsize=(12, 4))\n",
    "\n",
    "step = 15\n",
    "time = barsim.sequence_['Time'][::step]\n",
    "sea_level = barsim.sequence_['Sea level'][::step]\n",
    "elevation = barsim.sequence_['Elevation'][::step]\n",
    "\n",
    "def update(i):\n",
    "    label_time.set_text(str(round(int(time[i]), -min(2, int(np.log10(time[i] + 1e-8))))) + ' yr')\n",
    "    path = fill_sea.get_paths()[0]\n",
    "    path.vertices[len(elevation[i]) + 2:-1, 1] = sea_level[i]\n",
    "    path = fill_subsurface.get_paths()[0]\n",
    "    path.vertices[len(elevation[i]) + 2:-1, 1] = elevation[i][::-1]\n",
    "    k = 0\n",
    "    for j in range(i):\n",
    "        if j%15 == 0:\n",
    "            elevation_prev = elevation[j].to_numpy().copy()\n",
    "            elevation_prev[elevation_prev > elevation[i]] = elevation[i][elevation_prev > elevation[i]]\n",
    "            lines_elevation_prev[k].set_data((barsim.sequence_['X'], elevation_prev))\n",
    "            k += 1\n",
    "    line_elevation.set_ydata(elevation[i])\n",
    "    return label_time, fill_sea, fill_subsurface, line_elevation, lines_elevation_prev\n",
    "\n",
    "ax.annotate('Time:', (0.85, 0.92), xycoords='axes fraction')\n",
    "label_time = ax.annotate(str(round(int(time[0]), -min(2, int(np.log10(time[0] + 1e-8))))) + ' yr', (0.965, 0.92), ha='right', xycoords='axes fraction')\n",
    "fill_sea = ax.fill_between(barsim.sequence_['X'], elevation.min(), sea_level[0], edgecolor='#6baed6', facecolor='#c6dbef', zorder=0)\n",
    "fill_subsurface = ax.fill_between(barsim.sequence_['X'], elevation.min(), elevation[0], color='#fff7bc', zorder=1)\n",
    "lines_elevation_prev = [ax.plot([], [], c='0.5', lw=0.5, zorder=2)[0] for i in range(len(elevation[::15]))]\n",
    "line_elevation, = ax.plot(barsim.sequence_['X'], elevation[0], c='k', lw=1.5, zorder=3)\n",
    "ax.set_xlim(barsim.sequence_['X'][0], barsim.sequence_['X'][-1])\n",
    "ax.set_ylim(elevation.min(), elevation.max() + 20.)\n",
    "ax.set_xlabel('x (m)')\n",
    "ax.set_ylabel('z (m)')\n",
    "\n",
    "plt.close()\n",
    "\n",
    "ani = animation.FuncAnimation(fig, update, len(sea_level), interval=100)\n",
    "HTML(ani.to_jshtml())"
   ]
  },
  {
   "cell_type": "markdown",
   "id": "155fdb6b",
   "metadata": {},
   "source": [
    "## BarSim in 2.5D"
   ]
  },
  {
   "cell_type": "markdown",
   "id": "e5850f2c",
   "metadata": {},
   "source": [
    "Define the initial elevation and the inflection points for the variations of sea level and sediment supply:"
   ]
  },
  {
   "cell_type": "code",
   "execution_count": null,
   "id": "330ca13f",
   "metadata": {},
   "outputs": [],
   "source": [
    "initial_elevation = np.linspace(np.linspace(1000., 900., 200), np.linspace(1000., 850., 200), 150)\n",
    "spacing = (100., 100.)\n",
    "\n",
    "run_time = 25000.\n",
    "sea_level_curve = np.array([\n",
    "    (0., 998.),\n",
    "    (0.25*run_time, 985.),\n",
    "    (0.5*run_time, 975.),\n",
    "    (0.75*run_time, 985.),\n",
    "    (run_time + 20., 998.)\n",
    "])\n",
    "sediment_supply_curve = np.array([\n",
    "    np.tile([[0.], [0.25*run_time], [0.5*run_time], [0.75*run_time], [run_time + 20.]], 200),\n",
    "    np.vstack([\n",
    "        np.linspace(25., 5., 200),\n",
    "        np.linspace(25., 5., 200),\n",
    "        np.linspace(25., 5., 200),\n",
    "        np.linspace(5., 1., 200),\n",
    "        np.linspace(5., 1., 200),\n",
    "    ])\n",
    "]).T"
   ]
  },
  {
   "cell_type": "markdown",
   "id": "69477fd3",
   "metadata": {},
   "source": [
    "Initialize a *BarSimPseudo3D* object, run the simulation and interpolate on a regular grid (in a single step):"
   ]
  },
  {
   "cell_type": "code",
   "execution_count": null,
   "id": "9aa8f103",
   "metadata": {},
   "outputs": [],
   "source": [
    "%%time\n",
    "\n",
    "barsim = BarSimPseudo3D(initial_elevation,\n",
    "                        sea_level_curve,\n",
    "                        sediment_supply_curve,\n",
    "                        spacing=spacing,\n",
    "                        max_wave_height_fair_weather=1.5,\n",
    "                        allow_storms=True,\n",
    "                        start_with_storm=False,\n",
    "                        max_wave_height_storm=6.,\n",
    "                        tidal_amplitude=2.,\n",
    "                        min_tidal_area_for_transport=100.,\n",
    "                        sediment_size=(5., 50., 125., 250.),\n",
    "                        sediment_fraction=(0.25, 0.25, 0.25, 0.25),\n",
    "                        initial_substratum=(200., (0.25, 0.25, 0.25, 0.25)),\n",
    "                        erodibility=0.1,\n",
    "                        washover_fraction=0.5,\n",
    "                        tide_sand_fraction=0.3,\n",
    "                        depth_factor_backbarrier=5.,\n",
    "                        depth_factor_shoreface=10.,\n",
    "                        local_factor_shoreface=1.5,\n",
    "                        local_factor_backbarrier=1.,\n",
    "                        fallout_rate_backbarrier=0.,\n",
    "                        fallout_rate_shoreface=0.0002,\n",
    "                        max_width_backbarrier=500.,\n",
    "                        preinterpolate_curves=False,\n",
    "                        monotonic=True,\n",
    "                        seed=42)\n",
    "barsim.run(850., 1000., 0.5, run_time, dt_fair_weather=15., dt_storm=1.)\n",
    "barsim.summarize()"
   ]
  },
  {
   "cell_type": "markdown",
   "id": "c406aa9f",
   "metadata": {},
   "source": [
    "Here *run* directly creates *record_*:"
   ]
  },
  {
   "cell_type": "code",
   "execution_count": null,
   "id": "37f062be",
   "metadata": {},
   "outputs": [],
   "source": [
    "barsim.record_"
   ]
  },
  {
   "cell_type": "markdown",
   "id": "6b663c4f",
   "metadata": {},
   "source": [
    "Plot sections through the resulting 3D grid using [xarray's plotting functions](https://docs.xarray.dev/en/stable/user-guide/plotting.html?highlight=plotting):"
   ]
  },
  {
   "cell_type": "code",
   "execution_count": null,
   "id": "7cf13aff",
   "metadata": {},
   "outputs": [],
   "source": [
    "barsim.record_['Mean grain size'][-10].plot(figsize=(8, 6))"
   ]
  },
  {
   "cell_type": "code",
   "execution_count": null,
   "id": "13877415",
   "metadata": {},
   "outputs": [],
   "source": [
    "barsim.record_['Mean grain size'][:, 100].plot(figsize=(12, 5))"
   ]
  },
  {
   "cell_type": "code",
   "execution_count": null,
   "id": "161d2f99",
   "metadata": {},
   "outputs": [],
   "source": [
    "barsim.record_['Stratigraphy'][0, :, 100].plot(figsize=(12, 5))"
   ]
  },
  {
   "cell_type": "markdown",
   "id": "78d9222e",
   "metadata": {},
   "source": [
    "Create a [PyVista](https://docs.pyvista.org/) mesh for 3D visualization of the sedimentary deposits:"
   ]
  },
  {
   "cell_type": "code",
   "execution_count": null,
   "id": "f07d369b",
   "metadata": {},
   "outputs": [],
   "source": [
    "mesh = barsim.mesh(zscale=50.)"
   ]
  },
  {
   "cell_type": "markdown",
   "id": "a4c05e13",
   "metadata": {},
   "source": [
    "Visualize the full 2.5D deposits:"
   ]
  },
  {
   "cell_type": "code",
   "execution_count": null,
   "id": "5190672b-003e-4001-8969-8d26482277b3",
   "metadata": {},
   "outputs": [],
   "source": [
    "p = pv.Plotter()\n",
    "p.add_mesh(mesh.threshold(), scalars='Mean grain size', lighting=False)\n",
    "p.show()"
   ]
  },
  {
   "cell_type": "markdown",
   "id": "ca4e54a9",
   "metadata": {},
   "source": [
    "Visualize slices through the deposits:"
   ]
  },
  {
   "cell_type": "code",
   "execution_count": null,
   "id": "31380684",
   "metadata": {},
   "outputs": [],
   "source": [
    "p = pv.Plotter()\n",
    "p.add_mesh(mesh.threshold().slice_along_axis(n=10, axis='x'), scalars='Major facies', lighting=False)\n",
    "p.add_mesh(mesh.threshold().slice_along_axis(n=10, axis='y'), scalars='Major facies', lighting=False)\n",
    "p.show()"
   ]
  }
 ],
 "metadata": {
  "kernelspec": {
   "display_name": "Python 3 (ipykernel)",
   "language": "python",
   "name": "python3"
  },
  "language_info": {
   "codemirror_mode": {
    "name": "ipython",
    "version": 3
   },
   "file_extension": ".py",
   "mimetype": "text/x-python",
   "name": "python",
   "nbconvert_exporter": "python",
   "pygments_lexer": "ipython3",
   "version": "3.10.12"
  }
 },
 "nbformat": 4,
 "nbformat_minor": 5
}
