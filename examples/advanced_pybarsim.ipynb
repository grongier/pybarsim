{
 "cells": [
  {
   "cell_type": "markdown",
   "id": "98f09d53-5177-4944-b5e6-d787fa320009",
   "metadata": {},
   "source": [
    "<div style=\"display: flex;\">\n",
    "    <span style=\"margin-left: auto; margin-right: 5px;  margin-top: 1px;\"><a href=\"https://creativecommons.org/licenses/by/4.0/\">\n",
    "        <img src=\"https://licensebuttons.net/l/by/4.0/80x15.png\" />\n",
    "    </a></span>\n",
    "    <span style=\"margin-right: auto; margin-left: 5px;\"><a href=\"https://opensource.org/licenses/MIT\">\n",
    "        <img src=\"https://img.shields.io/badge/License-MIT-green.svg\" />\n",
    "    </a></span>\n",
    "</div>"
   ]
  },
  {
   "cell_type": "markdown",
   "id": "c4c147f1",
   "metadata": {},
   "source": [
    "# Advanced pyBarSim examples"
   ]
  },
  {
   "cell_type": "markdown",
   "id": "f89108b0-8cf3-4cc3-b87a-5e1a7ec62555",
   "metadata": {},
   "source": [
    "**Author:** Guillaume Rongier"
   ]
  },
  {
   "cell_type": "markdown",
   "id": "a70c651a-9517-4414-b8cd-2a012d9e9ea0",
   "metadata": {},
   "source": [
    "In this notebook, we will look at different functionalities of pyBarSim to study the simulated deposits of wave-dominated shallow-marine environments in 2D."
   ]
  },
  {
   "cell_type": "markdown",
   "id": "df6f1038-8d98-4e3a-a003-978e2d3de693",
   "metadata": {},
   "source": [
    "### Imports"
   ]
  },
  {
   "cell_type": "code",
   "execution_count": null,
   "id": "f76292dc",
   "metadata": {},
   "outputs": [],
   "source": [
    "import numpy as np\n",
    "import matplotlib\n",
    "import matplotlib.pyplot as plt\n",
    "import cmocean\n",
    "from mpl_toolkits.axes_grid1.inset_locator import inset_axes\n",
    "import matplotlib.animation as animation\n",
    "from IPython.display import HTML\n",
    "\n",
    "from pybarsim import BarSim2D\n",
    "from pybarsim.barsim import _sub_zero_extremity"
   ]
  },
  {
   "cell_type": "markdown",
   "id": "7b30ea64-75fd-40ec-8117-bf11632dd9ec",
   "metadata": {},
   "source": [
    "### Setting"
   ]
  },
  {
   "cell_type": "code",
   "execution_count": null,
   "id": "c0a3a368-f598-4eae-8fea-794a848202fe",
   "metadata": {},
   "outputs": [],
   "source": [
    "matplotlib.rcParams['animation.embed_limit'] = 2**128"
   ]
  },
  {
   "cell_type": "markdown",
   "id": "f48f6a34",
   "metadata": {},
   "source": [
    "## 1. Deposition age"
   ]
  },
  {
   "cell_type": "markdown",
   "id": "72f0c691",
   "metadata": {},
   "source": [
    "Let's start with a simple simulation with constant sea level and sediment supply:"
   ]
  },
  {
   "cell_type": "code",
   "execution_count": null,
   "id": "689b36d0-c2d3-4b1b-af6c-854cc61a0999",
   "metadata": {},
   "outputs": [],
   "source": [
    "%%time\n",
    "\n",
    "barsim = BarSim2D(np.linspace(0., -60., 250),\n",
    "                  -5.,\n",
    "                  20.,\n",
    "                  spacing=150.,\n",
    "                  max_wave_height_fair_weather=1.5,\n",
    "                  max_wave_height_storm=6.,\n",
    "                  sediment_size=(10., 80., 150., 250., 360.),\n",
    "                  sediment_fraction=(0.35, 0.25, 0.2, 0.15, 0.05),\n",
    "                  initial_substratum=(100., (0.35, 0.25, 0.2, 0.15, 0.05)),\n",
    "                  seed=42)\n",
    "barsim.run(10000., dt_fair_weather=10., dt_storm=1.)\n",
    "barsim.finalize()\n",
    "barsim.subsample(20)\n",
    "barsim.finalize(on='subsequence');"
   ]
  },
  {
   "cell_type": "markdown",
   "id": "49a96259-551b-4417-bf7e-9c860ae27929",
   "metadata": {},
   "source": [
    "And plot the final stratigraphy and mean grain size of the deposits:"
   ]
  },
  {
   "cell_type": "code",
   "execution_count": null,
   "id": "47848c87-e8e6-468f-a148-4ffc264beced",
   "metadata": {},
   "outputs": [],
   "source": [
    "fig, ax = plt.subplots(figsize=(12, 4))\n",
    "ax.fill_between(barsim.subsequence_['X'][:-1],\n",
    "                barsim.subsequence_['Horizons'][0, :-1],\n",
    "                barsim.subsequence_['Horizons'][0, :-1].min(),\n",
    "                color='#d9d9d9')\n",
    "c = barsim.plot_subsequence(ax, var='Mean grain size')\n",
    "fig.colorbar(c[0], ax=ax, label=r'Mean grain size ($\\mu$m)')\n",
    "ax.set(xlabel='x (m)', ylabel='z (m)');"
   ]
  },
  {
   "cell_type": "markdown",
   "id": "e0143ad5-b495-4eb5-82ee-e71ea4fd3c78",
   "metadata": {},
   "source": [
    "We need to expand the dimension of the variable `Time` before plotting the time of deposition, labelled `Age`:"
   ]
  },
  {
   "cell_type": "code",
   "execution_count": null,
   "id": "b66b9849-851f-4d19-b9dc-5ae6cac262dd",
   "metadata": {},
   "outputs": [],
   "source": [
    "barsim.subsequence_['Age'] = barsim.subsequence_['Time'].expand_dims({'X': barsim.subsequence_.dims['X']}, axis=-1)"
   ]
  },
  {
   "cell_type": "markdown",
   "id": "0a80576a-db1f-4210-a963-460f32c4969b",
   "metadata": {},
   "source": [
    "Now let's plot the result:"
   ]
  },
  {
   "cell_type": "code",
   "execution_count": null,
   "id": "f65db6e7-f0d0-4d17-b15e-6df1b0c084f4",
   "metadata": {},
   "outputs": [],
   "source": [
    "fig, ax = plt.subplots(figsize=(12, 4))\n",
    "ax.fill_between(barsim.subsequence_['X'][:-1],\n",
    "                barsim.subsequence_['Horizons'][0, :-1],\n",
    "                barsim.subsequence_['Horizons'][0, :-1].min(),\n",
    "                color='#d9d9d9')\n",
    "c = barsim.plot_subsequence(ax, var='Age', mask_zeros=False, sub_var='Mean grain size',\n",
    "                            sub_zero_extremity=False, strip_zero_neighbors=True)\n",
    "fig.colorbar(c[0], ax=ax, label=r'Deposition time (yr)')\n",
    "ax.set(xlabel='x (m)', ylabel='z (m)');"
   ]
  },
  {
   "cell_type": "markdown",
   "id": "179baf86-1fa2-455f-99c1-7345f7b5e4c7",
   "metadata": {},
   "source": [
    "## 2. Well simulation"
   ]
  },
  {
   "cell_type": "markdown",
   "id": "e3570e79-a085-4ab7-bfd0-602bb107261f",
   "metadata": {},
   "source": [
    "Now let's simulate a more complex setting, with varying sea level and sediment supply in time but no storms:"
   ]
  },
  {
   "cell_type": "code",
   "execution_count": null,
   "id": "1f34126c-1c56-47c6-884c-3eeaa7907370",
   "metadata": {},
   "outputs": [],
   "source": [
    "%%time\n",
    "\n",
    "sea_level_curve = np.array([\n",
    "    (0., -61.),\n",
    "    (18000., -26.),\n",
    "    (31000., -59.),\n",
    "    (39000., -11.),\n",
    "    (54000., -14.),\n",
    "    (61000., -24.),\n",
    "    (77000., -52.),\n",
    "    (103000., -9.),\n",
    "    (150000., -11.),\n",
    "])\n",
    "sediment_supply_curve = np.array([\n",
    "    (0., 7.),\n",
    "    (29000., 8.),\n",
    "    (34000., 15.),\n",
    "    (52000., 21.),\n",
    "    (63000., 19.),\n",
    "    (71000., 12.),\n",
    "    (105000., 4.),\n",
    "    (111000., 3.),\n",
    "    (150000., 8.),\n",
    "])\n",
    "barsim = BarSim2D(np.linspace(0., -120., 300),\n",
    "                  sea_level_curve,\n",
    "                  sediment_supply_curve,\n",
    "                  spacing=150.,\n",
    "                  max_wave_height_fair_weather=1.5,\n",
    "                  allow_storms=False,\n",
    "                  sediment_size=(5., 50., 125., 250.),\n",
    "                  sediment_fraction=(0.2, 0.3, 0.3, 0.2),\n",
    "                  initial_substratum=(100., (0.2, 0.3, 0.3, 0.2)),\n",
    "                  seed=42)\n",
    "barsim.run(150000., dt_fair_weather=10.)\n",
    "barsim.finalize()\n",
    "barsim.subsample(20)\n",
    "barsim.finalize(on='subsequence');"
   ]
  },
  {
   "cell_type": "markdown",
   "id": "6d867535-c364-47b0-abe7-9d66bd01224d",
   "metadata": {},
   "source": [
    "When plotting the well we'll need the water depth at the time of deposition:"
   ]
  },
  {
   "cell_type": "code",
   "execution_count": null,
   "id": "33c084bd-86e2-460e-93a8-c87590a40385",
   "metadata": {},
   "outputs": [],
   "source": [
    "water_depth = barsim.sequence_['Sea level'] - barsim.sequence_['Elevation']\n",
    "barsim.sequence_['Water depth'] = water_depth.where(water_depth > 0., 0.)"
   ]
  },
  {
   "cell_type": "markdown",
   "id": "b766d3a1-6373-4bdb-9a0a-bf8424263830",
   "metadata": {},
   "source": [
    "We can plot the final stratigraphy, this time with the location of the well (at the index *170* along the x axis):"
   ]
  },
  {
   "cell_type": "code",
   "execution_count": null,
   "id": "82cd00c9-e312-4208-81a3-07de357a9955",
   "metadata": {},
   "outputs": [],
   "source": [
    "fig, ax = plt.subplots(figsize=(12, 4))\n",
    "ax.fill_between(barsim.subsequence_['X'][:-1],\n",
    "                barsim.subsequence_['Horizons'][0, :-1],\n",
    "                barsim.subsequence_['Horizons'][0, :-1].min(),\n",
    "                color='#d9d9d9')\n",
    "c = barsim.plot_subsequence(ax, var='Mean grain size')\n",
    "fig.colorbar(c[0], ax=ax, label=r'Mean grain size ($\\mu$m)')\n",
    "ax.axvline(barsim.subsequence_['X'][170], c='red')\n",
    "ax.text(barsim.subsequence_['X'][170], -110, 'Well location', ha='right', rotation=90, c='red')\n",
    "ax.set(xlabel='x (m)', ylabel='z (m)');"
   ]
  },
  {
   "cell_type": "markdown",
   "id": "64c48125-0668-4345-b308-4d16aad2ecb0",
   "metadata": {},
   "source": [
    "And plot the well itself (at the index *170* along the x axis):"
   ]
  },
  {
   "cell_type": "code",
   "execution_count": null,
   "id": "4989f931-fd64-4e2f-8c8c-76356602ccc9",
   "metadata": {},
   "outputs": [],
   "source": [
    "fig, ax = plt.subplots(figsize=(2.5, 7))\n",
    "p, sm = barsim.plot_well(ax, 170, on='sequence', var='Water depth', cmap=cmocean.cm.deep)\n",
    "fig.colorbar(sm, ax=ax, pad=0.1, label='Water depth (m)')\n",
    "ax.set(xlabel=r'Mean grain size ($\\mu$m)', ylabel='z (m)');"
   ]
  },
  {
   "cell_type": "markdown",
   "id": "bdd721f0-3448-4e1d-ab06-8a75a07a9a60",
   "metadata": {},
   "source": [
    "Now let's do the same thing but on `subsequence_` instead of `sequence_` to see how the deposits are simplified:"
   ]
  },
  {
   "cell_type": "code",
   "execution_count": null,
   "id": "57fe9b08-b774-4603-b0f1-b5ff5282ad3e",
   "metadata": {},
   "outputs": [],
   "source": [
    "water_depth = barsim.subsequence_['Sea level'] - barsim.subsequence_['Elevation']\n",
    "barsim.subsequence_['Water depth'] = water_depth.where(water_depth > 0., 0.)"
   ]
  },
  {
   "cell_type": "code",
   "execution_count": null,
   "id": "b1bff067-201c-43a8-ba9c-033e74f55fac",
   "metadata": {},
   "outputs": [],
   "source": [
    "fig, ax = plt.subplots(figsize=(2.5, 7))\n",
    "p, sm = barsim.plot_well(ax, 170, on='subsequence', var='Water depth', cmap=cmocean.cm.deep,\n",
    "                         linewidth=0.05, edgecolor='k')\n",
    "fig.colorbar(sm, ax=ax, pad=0.1, label='Water depth (m)')\n",
    "ax.set(xlabel=r'Mean grain size ($\\mu$m)', ylabel='z (m)');"
   ]
  },
  {
   "cell_type": "markdown",
   "id": "fbd376e6-b5c2-4400-8653-582bf9f06984",
   "metadata": {},
   "source": [
    "## 3. Sediment fractions as RGB"
   ]
  },
  {
   "cell_type": "markdown",
   "id": "9cc0edd6-d714-4290-b82e-da122ed9ab47",
   "metadata": {},
   "source": [
    "Let's keep the same setting but with storms and only 3 grain sizes:"
   ]
  },
  {
   "cell_type": "code",
   "execution_count": null,
   "id": "b49e11f8-cbc9-4c9c-b61e-8dba3f63070d",
   "metadata": {},
   "outputs": [],
   "source": [
    "%%time\n",
    "\n",
    "sea_level_curve = np.array([\n",
    "    (0., -61.),\n",
    "    (18000., -26.),\n",
    "    (31000., -59.),\n",
    "    (39000., -11.),\n",
    "    (54000., -14.),\n",
    "    (61000., -24.),\n",
    "    (77000., -52.),\n",
    "    (103000., -9.),\n",
    "    (150000., -11.),\n",
    "])\n",
    "sediment_supply_curve = np.array([\n",
    "    (0., 7.),\n",
    "    (29000., 8.),\n",
    "    (34000., 15.),\n",
    "    (52000., 21.),\n",
    "    (63000., 19.),\n",
    "    (71000., 12.),\n",
    "    (105000., 4.),\n",
    "    (111000., 3.),\n",
    "    (150000., 8.),\n",
    "])\n",
    "barsim = BarSim2D(np.linspace(0., -120., 300),\n",
    "                  sea_level_curve,\n",
    "                  sediment_supply_curve,\n",
    "                  spacing=150.,\n",
    "                  max_wave_height_fair_weather=1.5,\n",
    "                  allow_storms=True,\n",
    "                  sediment_size=(10., 75., 200.),\n",
    "                  sediment_fraction=(0.3, 0.5, 0.2),\n",
    "                  initial_substratum=(100., (0.3, 0.5, 0.2)),\n",
    "                  seed=42)\n",
    "barsim.run(150000., dt_fair_weather=10.)\n",
    "barsim.finalize()\n",
    "barsim.subsample(20)\n",
    "barsim.finalize(on='subsequence');"
   ]
  },
  {
   "cell_type": "markdown",
   "id": "92cc419f-f80b-4bfc-adca-c1610948f0ac",
   "metadata": {},
   "source": [
    "We can plot the mean grain size as before:"
   ]
  },
  {
   "cell_type": "code",
   "execution_count": null,
   "id": "236ebd2c-36ed-4916-813b-8e7dfa394886",
   "metadata": {},
   "outputs": [],
   "source": [
    "fig, ax = plt.subplots(figsize=(12, 4))\n",
    "ax.fill_between(barsim.subsequence_['X'][:-1],\n",
    "                barsim.subsequence_['Horizons'][0, :-1],\n",
    "                barsim.subsequence_['Horizons'][0, :-1].min(),\n",
    "                color='#d9d9d9')\n",
    "c = barsim.plot_subsequence(ax, var='Mean grain size')\n",
    "fig.colorbar(c[0], ax=ax, label=r'Mean grain size ($\\mu$m)')\n",
    "ax.set(xlabel='x (m)', ylabel='z (m)');"
   ]
  },
  {
   "cell_type": "markdown",
   "id": "64b8265f-2739-48ac-a1bc-afe5573b446b",
   "metadata": {},
   "source": [
    "Or use the RGB channels to plot the fractions of each grain size. First we need to compute the fractions from the thickness of the deposits stored in `Deposits`:"
   ]
  },
  {
   "cell_type": "code",
   "execution_count": null,
   "id": "f6421019-5bd9-4a6b-8932-c516dc6f4b79",
   "metadata": {},
   "outputs": [],
   "source": [
    "barsim.subsequence_['Fractions'] = barsim.subsequence_['Deposits'].copy()\n",
    "barsim.subsequence_['Fractions'] /= barsim.subsequence_['Deposits'].values.sum(0)"
   ]
  },
  {
   "cell_type": "markdown",
   "id": "57e790b3-1a63-410e-8d99-539fc2a5af20",
   "metadata": {},
   "source": [
    "Then we can plot the result:"
   ]
  },
  {
   "cell_type": "code",
   "execution_count": null,
   "id": "01b571a7-a018-4b74-becd-1681422e5135",
   "metadata": {},
   "outputs": [],
   "source": [
    "fig, ax = plt.subplots(figsize=(12, 4))\n",
    "ax.fill_between(barsim.subsequence_['X'][:-1],\n",
    "                barsim.subsequence_['Horizons'][0, :-1],\n",
    "                barsim.subsequence_['Horizons'][0, :-1].min(),\n",
    "                color='#d9d9d9')\n",
    "# This is based on what `plot_subsequence` does in the background\n",
    "c = []\n",
    "for i in range(1, barsim.subsequence_['Horizons'].shape[0]):\n",
    "    rgba = []\n",
    "    for j in range(3):\n",
    "        layer = barsim.subsequence_['Fractions'].values[j, i, :-1]\n",
    "        layer = _sub_zero_extremity(layer, layer)\n",
    "        layer = np.tile(layer, (2, 1)).T\n",
    "        rgba.append(layer)\n",
    "    rgba.append(np.ones((len(barsim.subsequence_['X'].values[:-1]), 2)))\n",
    "    rgba = np.stack(rgba, axis=-1)\n",
    "    total = barsim.subsequence_['Fractions'].values[:, i, :-1].sum(0)\n",
    "    rgba[np.isnan(total) | (total == 0.)] = 0.\n",
    "    ci = ax.pcolormesh(np.tile(barsim.subsequence_['X'].values[:-1], (2, 1)).T,\n",
    "                       barsim.subsequence_['Horizons'].values[i - 1:i + 1, :-1].T,\n",
    "                       rgba,\n",
    "                       shading='gouraud')\n",
    "    c.append(ci)\n",
    "ax.set(xlabel='x (m)', ylabel='z (m)')\n",
    "# This is to add a rudimentary trianglular colorbar\n",
    "axins = inset_axes(ax, width='100%', height='100%', loc='center',\n",
    "                   bbox_to_anchor=(0.05, 0.2, 0.3, 0.3), bbox_transform=ax.transAxes)\n",
    "#    Create a matrix with the colors\n",
    "rgb = np.zeros((int(200*np.sqrt(3)/2.), 200, 3))\n",
    "coords = np.stack(np.meshgrid(np.linspace(0., 1., 200), np.linspace(0., np.sqrt(3)/2., int(200*np.sqrt(3)/2.))), axis=-1)\n",
    "angle = np.deg2rad(-90)\n",
    "rotation_matrix = np.array([(np.cos(angle), -np.sin(angle)), (np.sin(angle), np.cos(angle))])\n",
    "rgb[..., 0] = (coords@rotation_matrix)[..., 0]\n",
    "rgb[..., 0] = (rgb[..., 0] - rgb[..., 0].min())/np.ptp(rgb[..., 0])\n",
    "angle = np.deg2rad(30)\n",
    "rotation_matrix = np.array([(np.cos(angle), -np.sin(angle)), (np.sin(angle), np.cos(angle))])\n",
    "rgb[..., 1] = (coords@rotation_matrix)[..., 0]\n",
    "rgb[..., 1] = (rgb[..., 1] - rgb[..., 1].min())/np.ptp(rgb[..., 1])\n",
    "angle = np.deg2rad(-210)\n",
    "rotation_matrix = np.array([(np.cos(angle), -np.sin(angle)), (np.sin(angle), np.cos(angle))])\n",
    "rgb[..., 2] = (coords@rotation_matrix)[..., 0]\n",
    "rgb[..., 2] = (rgb[..., 2] - rgb[..., 2].min())/np.ptp(rgb[..., 2])\n",
    "#    Create a triangle to cut the matrix\n",
    "triangle = plt.Polygon([(0., 0.), (1., 0.), (0.5, np.sqrt(3)/2.)], facecolor='none', edgecolor='k', linewidth=0.8)\n",
    "#    Plot everything\n",
    "axins.add_patch(triangle)\n",
    "im = axins.imshow(rgb, extent=(0., 1., 0., np.sqrt(3)/2.))\n",
    "im.set_clip_path(triangle)\n",
    "axins.set_axis_off()\n",
    "axins.text(0.5, np.sqrt(3)/2., '{0:g}'.format(barsim.subsequence_['Grain size'].values[0]) + r' $\\mu$m', ha='center', va='bottom')\n",
    "axins.text(1., 0., '{0:g}'.format(barsim.subsequence_['Grain size'].values[1]) + r' $\\mu$m', ha='left', va='top')\n",
    "axins.text(0., 0., '{0:g}'.format(barsim.subsequence_['Grain size'].values[2]) + r' $\\mu$m', ha='right', va='top');"
   ]
  },
  {
   "cell_type": "markdown",
   "id": "2b409f97-d7cb-4515-97d1-0799d6dbb9e7",
   "metadata": {},
   "source": [
    "## 4. Pretty image and animation"
   ]
  },
  {
   "cell_type": "markdown",
   "id": "a6b0a637-2b54-4fdd-9ead-aed260410bb6",
   "metadata": {},
   "source": [
    "Let's go back to the original grain sizes and run a longer simulation:"
   ]
  },
  {
   "cell_type": "code",
   "execution_count": null,
   "id": "730fc556-fa32-4e8e-a58f-5d397cb1672a",
   "metadata": {},
   "outputs": [],
   "source": [
    "%%time\n",
    "\n",
    "sea_level_curve = np.array([\n",
    "    (0., -71.),\n",
    "    (18000., -33.),\n",
    "    (31000., -66.),\n",
    "    (39000., -18.),\n",
    "    (54000., -21.),\n",
    "    (61000., -31.),\n",
    "    (77000., -55.),\n",
    "    (93000., -14.),\n",
    "    (117000., -8.),\n",
    "    (121000., -3.),\n",
    "    (129000., -2.),\n",
    "    (153000., -7.),\n",
    "    (158000., -3.),\n",
    "    (182000., -4.),\n",
    "    (191000., -34.),\n",
    "    (200000., -5.),\n",
    "])\n",
    "sediment_supply_curve = np.array([\n",
    "    (0., 7.),\n",
    "    (29000., 8.),\n",
    "    (34000., 15.),\n",
    "    (52000., 21.),\n",
    "    (63000., 19.),\n",
    "    (71000., 12.),\n",
    "    (105000., 1.),\n",
    "    (111000., 2.),\n",
    "    (137000., 3.),\n",
    "    (152000., 17.),\n",
    "    (158000., 15.),\n",
    "    (165000., 16.),\n",
    "    (200000., 11.),\n",
    "])\n",
    "barsim = BarSim2D(np.linspace(0., -120., 300),\n",
    "                  sea_level_curve,\n",
    "                  sediment_supply_curve,\n",
    "                  spacing=150.,\n",
    "                  max_wave_height_fair_weather=1.5,\n",
    "                  max_wave_height_storm=6.,\n",
    "                  sediment_size=(5., 50., 125., 250.),\n",
    "                  sediment_fraction=(0.2, 0.3, 0.3, 0.2),\n",
    "                  initial_substratum=(100., (0.2, 0.3, 0.3, 0.2)),\n",
    "                  seed=42)\n",
    "barsim.run(200000., dt_fair_weather=10., dt_storm=1.)\n",
    "barsim.finalize()\n",
    "barsim.subsample(20)\n",
    "barsim.finalize(on='subsequence');"
   ]
  },
  {
   "cell_type": "markdown",
   "id": "5bf1197d-cdcd-4e40-b552-0350a4643f0e",
   "metadata": {},
   "source": [
    "We can plot the stratigraphy using the same code as before:"
   ]
  },
  {
   "cell_type": "code",
   "execution_count": null,
   "id": "61abdd9c-f885-457b-96f0-d3cefd410059",
   "metadata": {},
   "outputs": [],
   "source": [
    "fig, ax = plt.subplots(figsize=(12, 4))\n",
    "ax.fill_between(barsim.subsequence_['X'][:-1],\n",
    "                barsim.subsequence_['Horizons'][0, :-1],\n",
    "                barsim.subsequence_['Horizons'][0, :-1].min(),\n",
    "                color='#d9d9d9')\n",
    "c = barsim.plot_subsequence(ax, var='Mean grain size')\n",
    "fig.colorbar(c[0], ax=ax, label=r'Mean grain size ($\\mu$m)')\n",
    "ax.set(xlabel='x (m)', ylabel='z (m)');"
   ]
  },
  {
   "cell_type": "markdown",
   "id": "d67548a3-0199-4cd3-8102-9e7706b94ddc",
   "metadata": {},
   "source": [
    "Or invest a bit more effort to make a prettier plot:"
   ]
  },
  {
   "cell_type": "code",
   "execution_count": null,
   "id": "edbe8d35-2b41-4d40-9177-547d984a254f",
   "metadata": {},
   "outputs": [],
   "source": [
    "fig, ax = plt.subplots(figsize=(12, 4))\n",
    "\n",
    "plt.rc('font', family='Roboto Slab')\n",
    "\n",
    "# Sea level\n",
    "is_valid = barsim.subsequence_['Horizons'][0, :-1].values <= barsim.sequence_['Sea level'][-1].values\n",
    "fill_sea = ax.fill_between(barsim.subsequence_['X'][:-1][is_valid],\n",
    "                           barsim.subsequence_['Horizons'][0, :-1][is_valid],\n",
    "                           barsim.sequence_['Sea level'][-1],\n",
    "                           color='#c6dbef',\n",
    "                           zorder=0)\n",
    "# Substratum\n",
    "fill_substratum = ax.fill_between(barsim.subsequence_['X'][:-1],\n",
    "                                  barsim.subsequence_['Horizons'][0, :-1],\n",
    "                                  barsim.subsequence_['Horizons'][0, :-1].min(),\n",
    "                                  color='#f0f0f0')\n",
    "# Deposits\n",
    "c_deposits = barsim.plot_subsequence(ax)\n",
    "\n",
    "ax.set(ylim=(None, 5.))\n",
    "# Colorbar\n",
    "axins = inset_axes(ax, width='100%', height='100%', loc='center',\n",
    "                   bbox_to_anchor=(0.4, 0.205, 0.2, 0.035), bbox_transform=ax.transAxes)\n",
    "fig.colorbar(c_deposits[0], cax=axins, orientation='horizontal', label=r'Mean grain size ($\\mu$m)')\n",
    "# Vertical scale bar\n",
    "ax.plot([3000, 3000], [-80, -40], c='k', lw=2)\n",
    "ax.text(3000 - 325, -60, '40 m', ha='right', va='center')\n",
    "# Horizontal scale bar\n",
    "ax.plot([4200, 14200], [-90, -90], c='k', lw=2)\n",
    "ax.text(9200, -90 - 4, '10 km', ha='center', va='top')\n",
    "\n",
    "ax.spines['right'].set_visible(False)\n",
    "ax.spines['left'].set_visible(False)\n",
    "ax.spines['top'].set_visible(False)\n",
    "ax.spines['bottom'].set_visible(False)\n",
    "ax.set_axis_off()\n",
    "\n",
    "plt.show()"
   ]
  },
  {
   "cell_type": "markdown",
   "id": "6d5f53a6-95e7-4f25-98a9-c47f26ce0cf7",
   "metadata": {},
   "source": [
    "And save it:"
   ]
  },
  {
   "cell_type": "code",
   "execution_count": null,
   "id": "06963905-fb74-407f-8615-3e4a4c477c8b",
   "metadata": {},
   "outputs": [],
   "source": [
    "fig.savefig('./image.jpg', dpi=300, bbox_inches='tight', pad_inches=0)"
   ]
  },
  {
   "cell_type": "markdown",
   "id": "80540b28-fa1a-4866-af2f-a9f1d1208ebf",
   "metadata": {},
   "source": [
    "Based on that plot, we can animate the evolution of the mean grain size of the deposits through time:"
   ]
  },
  {
   "cell_type": "code",
   "execution_count": null,
   "id": "ba63beb5-8cb6-4e03-ac49-ff5f7ceb1e26",
   "metadata": {},
   "outputs": [],
   "source": [
    "%%time\n",
    "\n",
    "fig, ax = plt.subplots(figsize=(12, 4))\n",
    "fig.subplots_adjust(left=0, bottom=0, right=1, top=1, wspace=None, hspace=None)\n",
    "\n",
    "plt.rc('font', family='Roboto Slab')\n",
    "\n",
    "# BarSim\n",
    "barsim.run(1., dt_fair_weather=10., dt_storm=1.)\n",
    "barsim.finalize()\n",
    "barsim.subsample(20)\n",
    "barsim.finalize(on='subsequence')\n",
    "# Time\n",
    "ax.annotate('Time:', (0.865, 0.95), va='baseline', xycoords='axes fraction')\n",
    "label_time = ax.annotate('{:,}'.format(round(int(barsim.sequence_['Time'][-1]), -min(2, int(np.log10(barsim.sequence_['Time'][-1] + 1e-8))))).replace(',', r'$\\,$') + ' yr',\n",
    "                         (0.96, 0.95), ha='right', va='baseline', xycoords='axes fraction')\n",
    "# Sea level\n",
    "fill_sea = ax.fill_between(barsim.subsequence_['X'][:-1],\n",
    "                           barsim.subsequence_['Horizons'][0, :-1].min(),\n",
    "                           barsim.sequence_['Sea level'][-1],\n",
    "                           color='#c6dbef',\n",
    "                           zorder=0)\n",
    "# Substratum\n",
    "fill_substratum = ax.fill_between(barsim.subsequence_['X'][:-1],\n",
    "                                  barsim.subsequence_['Horizons'][0, :-1].min(),\n",
    "                                  barsim.subsequence_['Horizons'][0, :-1],\n",
    "                                  color='#f0f0f0')\n",
    "# Deposits\n",
    "c_deposits = []\n",
    "for i in range(1, barsim.subsequence_['Horizons'].shape[0]):\n",
    "    layer = barsim.subsequence_['Mean grain size'][i, :-1].values\n",
    "    layer = _sub_zero_extremity(layer, layer)\n",
    "    layer = np.ma.masked_where(layer == 0., layer)\n",
    "    ci = ax.pcolormesh(np.tile(barsim.subsequence_['X'][:-1].values, (2, 1)).T,\n",
    "                       barsim.subsequence_['Horizons'][i - 1:i + 1, :-1].T,\n",
    "                       np.tile(layer, (2, 1)).T,\n",
    "                       shading='gouraud',\n",
    "                       vmin=0.,\n",
    "                       vmax=240.)\n",
    "    c_deposits.append(ci)\n",
    "\n",
    "ax.set(xlim=(barsim.subsequence_['X'][0], barsim.subsequence_['X'][-2]), ylim=(barsim.subsequence_['Horizons'][0, :-1].min(), 8.))\n",
    "# Colorbar\n",
    "axins = inset_axes(ax, width='100%', height='100%', loc='center',\n",
    "                   bbox_to_anchor=(0.4, 0.205, 0.18, 0.03), bbox_transform=ax.transAxes)\n",
    "fig.colorbar(c_deposits[0], cax=axins, orientation='horizontal', label=r'Mean grain size ($\\mu$m)')\n",
    "# Vertical scale bar\n",
    "ax.plot([2750, 2750], [-80, -40], c='k', lw=2)\n",
    "ax.text(2750 - 325, -60, '40 m', ha='right', va='center')\n",
    "# Horizontal scale bar\n",
    "ax.plot([4000, 14000], [-90, -90], c='k', lw=2)\n",
    "ax.text(9000, -90 - 3.5, '10 km', ha='center', va='top')\n",
    "\n",
    "ax.spines['right'].set_visible(False)\n",
    "ax.spines['left'].set_visible(False)\n",
    "ax.spines['top'].set_visible(False)\n",
    "ax.spines['bottom'].set_visible(False)\n",
    "ax.set_axis_off()\n",
    "\n",
    "plt.close()\n",
    "\n",
    "\n",
    "def update(t):\n",
    "    global c_deposits\n",
    "    # BarSim\n",
    "    barsim.run(t, dt_fair_weather=10., dt_storm=1.)\n",
    "    barsim.finalize()\n",
    "    barsim.subsample(20)\n",
    "    barsim.finalize(on='subsequence')\n",
    "    # Time\n",
    "    label_time.set_text('{:,}'.format(round(int(barsim.sequence_['Time'][-1]), -min(2, int(np.log10(barsim.sequence_['Time'][-1] + 1e-8))))).replace(',', r'$\\,$') + ' yr')\n",
    "    # Sea level\n",
    "    path = fill_sea.get_paths()[0]\n",
    "    path.vertices[len(barsim.sequence_['X'][:-1]) + 2:-1, 1] = barsim.sequence_['Sea level'][-1].values\n",
    "    # Substratum\n",
    "    path = fill_substratum.get_paths()[0]\n",
    "    path.vertices[len(barsim.sequence_['X'][:-1]) + 2:-1, 1] = barsim.subsequence_['Horizons'][0, :-1].values[::-1]\n",
    "    # Deposits\n",
    "    for i in range(1, barsim.subsequence_['Horizons'].shape[0]):\n",
    "        layer = barsim.subsequence_['Mean grain size'][i, :-1].values\n",
    "        layer = _sub_zero_extremity(layer, layer)\n",
    "        layer = np.ma.masked_where(layer == 0., layer)\n",
    "        if i - 1 < len(c_deposits):\n",
    "            c_deposits[i - 1].set_array(np.tile(layer, (2, 1)).T)\n",
    "            c_deposits[i - 1]._coordinates[..., 1] = barsim.subsequence_['Horizons'][i - 1:i + 1, :-1].T\n",
    "        else:\n",
    "            ci = ax.pcolormesh(np.tile(barsim.subsequence_['X'][:-1].values, (2, 1)).T,\n",
    "                               barsim.subsequence_['Horizons'][i - 1:i + 1, :-1].T,\n",
    "                               np.tile(layer, (2, 1)).T,\n",
    "                               shading='gouraud',\n",
    "                               vmin=0.,\n",
    "                               vmax=240.)\n",
    "            c_deposits.append(ci)\n",
    "\n",
    "    return label_time, fill_sea, fill_substratum, *c_deposits\n",
    "\n",
    "ani = animation.FuncAnimation(fig, update, range(0, 200100, 100), interval=30, blit=True)\n",
    "# To visualize the animation directly in the notebook, uncomment this line.\n",
    "# It takes a long time to run, and there seems to be a bug if `ani` is\n",
    "# displayed and saved (last frame is displayed statically).\n",
    "# HTML(ani.to_jshtml())"
   ]
  },
  {
   "cell_type": "markdown",
   "id": "113e0ee9-9b23-455c-b0e7-1ec41fed59d2",
   "metadata": {},
   "source": [
    "<div class=\"alert alert-block alert-warning\">\n",
    "<b>&#9888;</b> The code above isn't optimal so the next cell takes a lot of time to run (several hours).\n",
    "</div>"
   ]
  },
  {
   "cell_type": "markdown",
   "id": "726af46e-0728-4550-aafb-d0d12c4ded76",
   "metadata": {},
   "source": [
    "And save the animation:"
   ]
  },
  {
   "cell_type": "code",
   "execution_count": null,
   "id": "a7353ee7-3178-40e3-82c9-157540a74500",
   "metadata": {},
   "outputs": [],
   "source": [
    "%%time\n",
    "\n",
    "writer = animation.FFMpegWriter(fps=25)\n",
    "ani.save('./pybarsim_animation.mp4', writer=writer, dpi=300)"
   ]
  }
 ],
 "metadata": {
  "kernelspec": {
   "display_name": "Python 3 (ipykernel)",
   "language": "python",
   "name": "python3"
  },
  "language_info": {
   "codemirror_mode": {
    "name": "ipython",
    "version": 3
   },
   "file_extension": ".py",
   "mimetype": "text/x-python",
   "name": "python",
   "nbconvert_exporter": "python",
   "pygments_lexer": "ipython3",
   "version": "3.10.13"
  }
 },
 "nbformat": 4,
 "nbformat_minor": 5
}
