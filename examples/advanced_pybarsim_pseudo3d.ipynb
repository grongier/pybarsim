{
 "cells": [
  {
   "cell_type": "markdown",
   "id": "98f09d53-5177-4944-b5e6-d787fa320009",
   "metadata": {},
   "source": [
    "<div style=\"display: flex;\">\n",
    "    <span style=\"margin-left: auto; margin-right: 5px;  margin-top: 1px;\"><a href=\"https://creativecommons.org/licenses/by/4.0/\">\n",
    "        <img src=\"https://licensebuttons.net/l/by/4.0/80x15.png\" />\n",
    "    </a></span>\n",
    "    <span style=\"margin-right: auto; margin-left: 5px;\"><a href=\"https://opensource.org/licenses/MIT\">\n",
    "        <img src=\"https://img.shields.io/badge/License-MIT-green.svg\" />\n",
    "    </a></span>\n",
    "</div>"
   ]
  },
  {
   "cell_type": "markdown",
   "id": "c4c147f1",
   "metadata": {},
   "source": [
    "# pyBarSim in 2.5D"
   ]
  },
  {
   "cell_type": "markdown",
   "id": "f89108b0-8cf3-4cc3-b87a-5e1a7ec62555",
   "metadata": {},
   "source": [
    "**Author:** Guillaume Rongier"
   ]
  },
  {
   "cell_type": "markdown",
   "id": "a70c651a-9517-4414-b8cd-2a012d9e9ea0",
   "metadata": {},
   "source": [
    "In this notebook, we will look at simulating the deposits of wave-dominated shallow-marine environments in 2.5D using pyBarSim."
   ]
  },
  {
   "cell_type": "markdown",
   "id": "df6f1038-8d98-4e3a-a003-978e2d3de693",
   "metadata": {},
   "source": [
    "### Imports"
   ]
  },
  {
   "cell_type": "code",
   "execution_count": null,
   "id": "f76292dc",
   "metadata": {},
   "outputs": [],
   "source": [
    "import numpy as np\n",
    "import matplotlib.pyplot as plt\n",
    "import cmocean\n",
    "import pyvista as pv\n",
    "\n",
    "from pybarsim import BarSimPseudo3D\n",
    "from pybarsim.barsim import prepare_subsequence_grid"
   ]
  },
  {
   "cell_type": "markdown",
   "id": "155fdb6b",
   "metadata": {},
   "source": [
    "## 1. Setup and run"
   ]
  },
  {
   "cell_type": "markdown",
   "id": "e5850f2c",
   "metadata": {},
   "source": [
    "Define the initial elevation and cell size (in m):"
   ]
  },
  {
   "cell_type": "code",
   "execution_count": null,
   "id": "ad0eaeeb-80fe-4a22-9441-11fa30050af2",
   "metadata": {},
   "outputs": [],
   "source": [
    "initial_elevation = np.linspace(np.linspace(1000., 900., 200), np.linspace(1000., 850., 200), 150)\n",
    "\n",
    "spacing = (100., 100.)"
   ]
  },
  {
   "cell_type": "markdown",
   "id": "c2aa048e-b536-4af0-84dc-d84ee7eddb21",
   "metadata": {},
   "source": [
    "Define the run time (in yr) and the inflection points for the variations of sea level (in m):"
   ]
  },
  {
   "cell_type": "code",
   "execution_count": null,
   "id": "846e93d1-70ba-441a-9f30-1e52ed90b828",
   "metadata": {},
   "outputs": [],
   "source": [
    "run_time = 25000.\n",
    "\n",
    "sea_level_curve = np.array([\n",
    "    (0., 998.),\n",
    "    (0.25*run_time, 985.),\n",
    "    (0.5*run_time, 975.),\n",
    "    (0.75*run_time, 985.),\n",
    "    (run_time + 20., 998.)\n",
    "])"
   ]
  },
  {
   "cell_type": "markdown",
   "id": "98360da0-aca9-4460-9ccb-28dc209d6f0e",
   "metadata": {},
   "source": [
    "Define the inflection points for the sediment supply, which varies along-shore (in m$^2$/yr):"
   ]
  },
  {
   "cell_type": "code",
   "execution_count": null,
   "id": "330ca13f",
   "metadata": {},
   "outputs": [],
   "source": [
    "sediment_supply_curve = np.array([\n",
    "    np.tile([[0.], [0.25*run_time], [0.5*run_time], [0.75*run_time], [run_time + 20.]], 200),\n",
    "    np.vstack([\n",
    "        np.linspace(25., 5., 200),\n",
    "        np.linspace(25., 5., 200),\n",
    "        np.linspace(25., 5., 200),\n",
    "        np.linspace(5., 1., 200),\n",
    "        np.linspace(5., 1., 200),\n",
    "    ])\n",
    "]).T"
   ]
  },
  {
   "cell_type": "markdown",
   "id": "69477fd3",
   "metadata": {},
   "source": [
    "Initialize a `BarSimPseudo3D` object and run the simulation:"
   ]
  },
  {
   "cell_type": "markdown",
   "id": "18998eab-3396-4b0f-9dc5-4f0543c1faa9",
   "metadata": {},
   "source": [
    "<div class=\"alert alert-block alert-warning\">\n",
    "<b>&#9888;</b> This takes more time to run the first time because Numba needs to compile the Python code.\n",
    "</div>"
   ]
  },
  {
   "cell_type": "code",
   "execution_count": null,
   "id": "9aa8f103",
   "metadata": {},
   "outputs": [],
   "source": [
    "barsim = BarSimPseudo3D(initial_elevation,\n",
    "                        sea_level_curve,\n",
    "                        sediment_supply_curve,\n",
    "                        spacing=spacing,\n",
    "                        max_wave_height_fair_weather=1.5,\n",
    "                        allow_storms=True,\n",
    "                        start_with_storm=False,\n",
    "                        max_wave_height_storm=6.,\n",
    "                        tidal_amplitude=2.,\n",
    "                        min_tidal_area_for_transport=100.,\n",
    "                        sediment_size=(5., 50., 125., 250.),\n",
    "                        sediment_fraction=(0.25, 0.25, 0.25, 0.25),\n",
    "                        initial_substratum=(200., (0.25, 0.25, 0.25, 0.25)),\n",
    "                        erodibility=0.1,\n",
    "                        washover_fraction=0.5,\n",
    "                        tide_sand_fraction=0.3,\n",
    "                        depth_factor_backbarrier=5.,\n",
    "                        depth_factor_shoreface=10.,\n",
    "                        local_factor_shoreface=1.5,\n",
    "                        local_factor_backbarrier=1.,\n",
    "                        fallout_rate_backbarrier=0.,\n",
    "                        fallout_rate_shoreface=0.0002,\n",
    "                        max_width_backbarrier=500.,\n",
    "                        curve_preinterpolation=None,\n",
    "                        seed=42)\n",
    "barsim.run(run_time, dt_fair_weather=15., dt_storm=1.)"
   ]
  },
  {
   "cell_type": "markdown",
   "id": "85183654-72ff-4611-a814-81ee84cc4b78",
   "metadata": {},
   "source": [
    "Similarly to the 2D case, we can reduce the number of time steps to make plotting easier:"
   ]
  },
  {
   "cell_type": "code",
   "execution_count": null,
   "id": "1e35c719-001a-4023-ac1a-86142f51ff1c",
   "metadata": {},
   "outputs": [],
   "source": [
    "barsim.finalize(on='sequence')"
   ]
  },
  {
   "cell_type": "code",
   "execution_count": null,
   "id": "3463fc4d-3a0d-45a8-97c2-d386db004eef",
   "metadata": {},
   "outputs": [],
   "source": [
    "barsim.subsample(20)"
   ]
  },
  {
   "cell_type": "code",
   "execution_count": null,
   "id": "21113fd5-4dc1-4708-9526-eee638cc56f9",
   "metadata": {},
   "outputs": [],
   "source": [
    "barsim.finalize(on='subsequence')"
   ]
  },
  {
   "cell_type": "markdown",
   "id": "893631a0-c860-46ee-8563-09e086bedb2d",
   "metadata": {},
   "source": [
    "We can also reinterpolates the result to a regular grid:"
   ]
  },
  {
   "cell_type": "code",
   "execution_count": null,
   "id": "8fb22b13-0fc9-43c4-a886-d6ffb324ab9b",
   "metadata": {},
   "outputs": [],
   "source": [
    "barsim.regrid(850., 1000., 0.5)"
   ]
  },
  {
   "cell_type": "code",
   "execution_count": null,
   "id": "809fbc21-17d0-4a05-8258-3396d5337a9c",
   "metadata": {},
   "outputs": [],
   "source": [
    "barsim.finalize(on='record')"
   ]
  },
  {
   "cell_type": "markdown",
   "id": "1051bdc8-a52a-4dec-9ad8-57e5d8be3287",
   "metadata": {},
   "source": [
    "## 2. Stratigraphy visualization"
   ]
  },
  {
   "cell_type": "markdown",
   "id": "c6af6bd9-9e7d-4456-b32d-aa74ff6b98e8",
   "metadata": {},
   "source": [
    "The same functions used in 2D for plotting `subsequence_` can be used in 2.5D, first to extract a section along the x axis (at index 75 along the y axis):"
   ]
  },
  {
   "cell_type": "code",
   "execution_count": null,
   "id": "36334ce6-8c1f-4678-9d9c-4886028f3188",
   "metadata": {},
   "outputs": [],
   "source": [
    "fig, ax = plt.subplots(figsize=(12, 4))\n",
    "ax.fill_between(barsim.subsequence_['X'][:-1],\n",
    "                barsim.subsequence_['Horizons'][0, 75, :-1],\n",
    "                barsim.subsequence_['Horizons'][0, 75, :-1].min(),\n",
    "                color='#d9d9d9')\n",
    "c = barsim.plot_subsequence(ax, 75, var='Mean grain size')\n",
    "fig.colorbar(c[0], ax=ax, label=r'Mean grain size ($\\mu$m)')\n",
    "ax.set(xlabel='x (m)', ylabel='z (m)');"
   ]
  },
  {
   "cell_type": "markdown",
   "id": "f3d25c2a-c452-41cc-88cb-e8f6d630fe85",
   "metadata": {},
   "source": [
    "And we can compute the water depth:"
   ]
  },
  {
   "cell_type": "code",
   "execution_count": null,
   "id": "70cb9d36-e1bf-4c78-8b0d-9ccded428607",
   "metadata": {},
   "outputs": [],
   "source": [
    "water_depth = barsim.sequence_['Sea level'] - barsim.sequence_['Elevation']\n",
    "barsim.sequence_['Water depth'] = water_depth.where(water_depth > 0., 0.)"
   ]
  },
  {
   "cell_type": "markdown",
   "id": "baf49322-f11c-450d-90f7-2efa311a61e7",
   "metadata": {},
   "source": [
    "To plot it along a well extracted at index 50 along the x axis and 75 along the y axis:"
   ]
  },
  {
   "cell_type": "code",
   "execution_count": null,
   "id": "cc43bd50-a678-40fd-8d6a-b6707d975dfd",
   "metadata": {},
   "outputs": [],
   "source": [
    "fig, ax = plt.subplots(figsize=(2.5, 7))\n",
    "p, sm = barsim.plot_well(ax, 50, 75, on='sequence', var='Water depth', cmap=cmocean.cm.deep)\n",
    "fig.colorbar(sm, ax=ax, pad=0.1, label='Water depth (m)')\n",
    "ax.set(xlabel=r'Mean grain size ($\\mu$m)', ylabel='z (m)');"
   ]
  },
  {
   "cell_type": "markdown",
   "id": "6b663c4f",
   "metadata": {},
   "source": [
    "We can directly visualize sections through `record_`, the regular grid, using [xarray's plotting functions](https://docs.xarray.dev/en/stable/user-guide/plotting.html?highlight=plotting):"
   ]
  },
  {
   "cell_type": "code",
   "execution_count": null,
   "id": "7cf13aff",
   "metadata": {},
   "outputs": [],
   "source": [
    "barsim.record_['Mean grain size'][-10].plot(figsize=(8, 6))"
   ]
  },
  {
   "cell_type": "code",
   "execution_count": null,
   "id": "13877415",
   "metadata": {},
   "outputs": [],
   "source": [
    "barsim.record_['Mean grain size'][:, 75].plot(figsize=(12, 5))"
   ]
  },
  {
   "cell_type": "code",
   "execution_count": null,
   "id": "161d2f99",
   "metadata": {},
   "outputs": [],
   "source": [
    "barsim.record_['Deposits'][0, :, 75].plot(figsize=(12, 5))"
   ]
  },
  {
   "cell_type": "markdown",
   "id": "b6abf783-c61e-405c-9cff-181f8890211b",
   "metadata": {},
   "source": [
    "## 3. 3D visualization"
   ]
  },
  {
   "cell_type": "markdown",
   "id": "324825cc-9aea-4754-8da3-301886a14333",
   "metadata": {},
   "source": [
    "We first need to extract the coordinates of the grid nodes and the property to plot from `subsequence_`:"
   ]
  },
  {
   "cell_type": "code",
   "execution_count": null,
   "id": "6dab3b15-0e76-474b-abe1-b50660a8d5d0",
   "metadata": {},
   "outputs": [],
   "source": [
    "x, y, z, layers = prepare_subsequence_grid(barsim.subsequence_,\n",
    "                                           var='Mean grain size')"
   ]
  },
  {
   "cell_type": "markdown",
   "id": "8a40be63-6490-4c7c-a741-392684c68a35",
   "metadata": {},
   "source": [
    "Then we can create a [PyVista](https://docs.pyvista.org/) mesh:"
   ]
  },
  {
   "cell_type": "code",
   "execution_count": null,
   "id": "b3e0087c-9652-4525-ae66-bb7e7d6caec5",
   "metadata": {},
   "outputs": [],
   "source": [
    "mesh = pv.StructuredGrid(x, y, z)"
   ]
  },
  {
   "cell_type": "markdown",
   "id": "bd2b583e-ce30-4bf5-b38f-4ea47498d0f0",
   "metadata": {},
   "source": [
    "Add the property to plot:"
   ]
  },
  {
   "cell_type": "code",
   "execution_count": null,
   "id": "302da83b-59db-4450-95bd-f6916bd27730",
   "metadata": {},
   "outputs": [],
   "source": [
    "mesh['Mean grain size'] = layers.ravel()"
   ]
  },
  {
   "cell_type": "markdown",
   "id": "f424bd32-aada-445d-8f30-ec7acac7c6cc",
   "metadata": {},
   "source": [
    "And plot the grid:"
   ]
  },
  {
   "cell_type": "code",
   "execution_count": null,
   "id": "562643e6-062d-4e82-9a88-34f574bc5854",
   "metadata": {},
   "outputs": [],
   "source": [
    "p = pv.Plotter()\n",
    "p.add_mesh(mesh, scalars='Mean grain size', lighting=False)\n",
    "p.set_scale(zscale=50)\n",
    "p.show()"
   ]
  },
  {
   "cell_type": "markdown",
   "id": "5b4f1251-7d34-4426-b604-c2479fb5765c",
   "metadata": {},
   "source": [
    "From there we can use any of PyVista's filters, for instance to view slices along the x and y axes:"
   ]
  },
  {
   "cell_type": "code",
   "execution_count": null,
   "id": "115eeaa9-767d-4f51-8f69-5a7a66b3b31d",
   "metadata": {},
   "outputs": [],
   "source": [
    "p = pv.Plotter()\n",
    "p.add_mesh(mesh.slice_along_axis(n=10, axis='x'), scalars='Mean grain size', lighting=False)\n",
    "p.add_mesh(mesh.slice_along_axis(n=10, axis='y'), scalars='Mean grain size', lighting=False)\n",
    "p.set_scale(zscale=50)\n",
    "p.show()"
   ]
  },
  {
   "cell_type": "markdown",
   "id": "cdcdcecc-b6d9-4e72-91c3-0138f4fb0539",
   "metadata": {},
   "source": [
    "Visualizing `record_` is more direct. We can directly create the mesh:"
   ]
  },
  {
   "cell_type": "code",
   "execution_count": null,
   "id": "f07d369b",
   "metadata": {},
   "outputs": [],
   "source": [
    "mesh = pv.ImageData(dimensions=(201, 151, 301),\n",
    "                    spacing=(100., 100., 0.5,),\n",
    "                    origin=(0., 0., 850.))"
   ]
  },
  {
   "cell_type": "markdown",
   "id": "b067fa05-9144-4c5e-80d4-fabbc2534556",
   "metadata": {},
   "source": [
    "And add the property to plot, removing the lower and upper part of the grid to only plot BarSim's deposits:"
   ]
  },
  {
   "cell_type": "code",
   "execution_count": null,
   "id": "b43d4b72-c2a0-43f2-aa8e-b4bdd821c428",
   "metadata": {},
   "outputs": [],
   "source": [
    "values = barsim.record_['Major facies'].values.astype(float)\n",
    "values[(barsim.record_['Facies'][0] > 0) | (barsim.record_['Facies'][1] > 0)] = np.nan\n",
    "mesh['Major facies'] = values.ravel()"
   ]
  },
  {
   "cell_type": "markdown",
   "id": "a4c05e13",
   "metadata": {},
   "source": [
    "We can then visualize the deposits in the regular grid:"
   ]
  },
  {
   "cell_type": "code",
   "execution_count": null,
   "id": "5190672b-003e-4001-8969-8d26482277b3",
   "metadata": {},
   "outputs": [],
   "source": [
    "p = pv.Plotter()\n",
    "p.add_mesh(mesh.threshold(), scalars='Major facies', lighting=False)\n",
    "p.set_scale(zscale=50)\n",
    "p.show()"
   ]
  }
 ],
 "metadata": {
  "kernelspec": {
   "display_name": "Python 3 (ipykernel)",
   "language": "python",
   "name": "python3"
  },
  "language_info": {
   "codemirror_mode": {
    "name": "ipython",
    "version": 3
   },
   "file_extension": ".py",
   "mimetype": "text/x-python",
   "name": "python",
   "nbconvert_exporter": "python",
   "pygments_lexer": "ipython3",
   "version": "3.10.13"
  }
 },
 "nbformat": 4,
 "nbformat_minor": 5
}
