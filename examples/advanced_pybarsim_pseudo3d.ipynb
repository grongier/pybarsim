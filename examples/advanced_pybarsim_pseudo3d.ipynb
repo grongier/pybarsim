{
 "cells": [
  {
   "cell_type": "markdown",
   "id": "98f09d53-5177-4944-b5e6-d787fa320009",
   "metadata": {},
   "source": [
    "<span style=\"float:right;\"><a href=\"https://opensource.org/licenses/MIT\">\n",
    "    <img src=\"https://img.shields.io/badge/License-MIT-green.svg\" />\n",
    "</a></span>\n",
    "<span style=\"float:right; display:inline-block; margin: 2.5px 5px;\"><a href=\"https://creativecommons.org/licenses/by/4.0/\">\n",
    "    <img src=\"https://licensebuttons.net/l/by/4.0/80x15.png\" />\n",
    "</a></span>"
   ]
  },
  {
   "cell_type": "markdown",
   "id": "c4c147f1",
   "metadata": {},
   "source": [
    "# pyBarSim in 2.5D"
   ]
  },
  {
   "cell_type": "markdown",
   "id": "f89108b0-8cf3-4cc3-b87a-5e1a7ec62555",
   "metadata": {},
   "source": [
    "**Author:** Guillaume Rongier\n",
    "<br></br>"
   ]
  },
  {
   "cell_type": "markdown",
   "id": "a70c651a-9517-4414-b8cd-2a012d9e9ea0",
   "metadata": {},
   "source": [
    "In this notebook, we will look at simulating the deposits of wave-dominated shallow-marine environments in 2.5D using pyBarSim."
   ]
  },
  {
   "cell_type": "markdown",
   "id": "df6f1038-8d98-4e3a-a003-978e2d3de693",
   "metadata": {},
   "source": [
    "### Imports"
   ]
  },
  {
   "cell_type": "code",
   "execution_count": null,
   "id": "f76292dc",
   "metadata": {},
   "outputs": [],
   "source": [
    "import numpy as np\n",
    "import pyvista as pv\n",
    "\n",
    "from pybarsim import BarSimPseudo3D"
   ]
  },
  {
   "cell_type": "markdown",
   "id": "155fdb6b",
   "metadata": {},
   "source": [
    "## 1. Setup and run"
   ]
  },
  {
   "cell_type": "markdown",
   "id": "e5850f2c",
   "metadata": {},
   "source": [
    "Define the initial elevation and cell size (in m):"
   ]
  },
  {
   "cell_type": "code",
   "execution_count": null,
   "id": "ad0eaeeb-80fe-4a22-9441-11fa30050af2",
   "metadata": {},
   "outputs": [],
   "source": [
    "initial_elevation = np.linspace(np.linspace(1000., 900., 200), np.linspace(1000., 850., 200), 150)\n",
    "\n",
    "spacing = (100., 100.)"
   ]
  },
  {
   "cell_type": "markdown",
   "id": "c2aa048e-b536-4af0-84dc-d84ee7eddb21",
   "metadata": {},
   "source": [
    "Define the run time (in yr) and the inflection points for the variations of sea level (in m):"
   ]
  },
  {
   "cell_type": "code",
   "execution_count": null,
   "id": "846e93d1-70ba-441a-9f30-1e52ed90b828",
   "metadata": {},
   "outputs": [],
   "source": [
    "run_time = 25000.\n",
    "\n",
    "sea_level_curve = np.array([\n",
    "    (0., 998.),\n",
    "    (0.25*run_time, 985.),\n",
    "    (0.5*run_time, 975.),\n",
    "    (0.75*run_time, 985.),\n",
    "    (run_time + 20., 998.)\n",
    "])"
   ]
  },
  {
   "cell_type": "markdown",
   "id": "98360da0-aca9-4460-9ccb-28dc209d6f0e",
   "metadata": {},
   "source": [
    "Define the inflection points for the sediment supply, which varies along-shore (in m$^2$/yr):"
   ]
  },
  {
   "cell_type": "code",
   "execution_count": null,
   "id": "330ca13f",
   "metadata": {},
   "outputs": [],
   "source": [
    "sediment_supply_curve = np.array([\n",
    "    np.tile([[0.], [0.25*run_time], [0.5*run_time], [0.75*run_time], [run_time + 20.]], 200),\n",
    "    np.vstack([\n",
    "        np.linspace(25., 5., 200),\n",
    "        np.linspace(25., 5., 200),\n",
    "        np.linspace(25., 5., 200),\n",
    "        np.linspace(5., 1., 200),\n",
    "        np.linspace(5., 1., 200),\n",
    "    ])\n",
    "]).T"
   ]
  },
  {
   "cell_type": "markdown",
   "id": "69477fd3",
   "metadata": {},
   "source": [
    "Initialize a `BarSimPseudo3D` object and run the simulation:"
   ]
  },
  {
   "cell_type": "markdown",
   "id": "18998eab-3396-4b0f-9dc5-4f0543c1faa9",
   "metadata": {},
   "source": [
    "<div class=\"alert alert-block alert-warning\">\n",
    "<b>&#9888;</b> This takes more time to run the first time because Numba needs to compile the Python code.\n",
    "</div>"
   ]
  },
  {
   "cell_type": "code",
   "execution_count": null,
   "id": "9aa8f103",
   "metadata": {},
   "outputs": [],
   "source": [
    "barsim = BarSimPseudo3D(initial_elevation,\n",
    "                        sea_level_curve,\n",
    "                        sediment_supply_curve,\n",
    "                        spacing=spacing,\n",
    "                        max_wave_height_fair_weather=1.5,\n",
    "                        allow_storms=True,\n",
    "                        start_with_storm=False,\n",
    "                        max_wave_height_storm=6.,\n",
    "                        tidal_amplitude=2.,\n",
    "                        min_tidal_area_for_transport=100.,\n",
    "                        sediment_size=(5., 50., 125., 250.),\n",
    "                        sediment_fraction=(0.25, 0.25, 0.25, 0.25),\n",
    "                        initial_substratum=(200., (0.25, 0.25, 0.25, 0.25)),\n",
    "                        erodibility=0.1,\n",
    "                        washover_fraction=0.5,\n",
    "                        tide_sand_fraction=0.3,\n",
    "                        depth_factor_backbarrier=5.,\n",
    "                        depth_factor_shoreface=10.,\n",
    "                        local_factor_shoreface=1.5,\n",
    "                        local_factor_backbarrier=1.,\n",
    "                        fallout_rate_backbarrier=0.,\n",
    "                        fallout_rate_shoreface=0.0002,\n",
    "                        max_width_backbarrier=500.,\n",
    "                        curve_preinterpolation=None,\n",
    "                        seed=42)\n",
    "barsim.run(850., 1000., 0.5, run_time, dt_fair_weather=15., dt_storm=1.)"
   ]
  },
  {
   "cell_type": "markdown",
   "id": "1051bdc8-a52a-4dec-9ad8-57e5d8be3287",
   "metadata": {},
   "source": [
    "## 2. Stratigraphy visualization"
   ]
  },
  {
   "cell_type": "markdown",
   "id": "c406aa9f",
   "metadata": {},
   "source": [
    "Here `run` directly creates `record_`, so a 3D structured regular grid:"
   ]
  },
  {
   "cell_type": "markdown",
   "id": "cc302ea7-df05-4e0b-9f16-975b3ec5e24d",
   "metadata": {},
   "source": [
    "<div class=\"alert alert-block alert-warning\">\n",
    "<b>&#9888;</b> <code>sequence_</code> is not implemented in <code>BarSimPseudo3D</code>.\n",
    "</div>"
   ]
  },
  {
   "cell_type": "code",
   "execution_count": null,
   "id": "37f062be",
   "metadata": {},
   "outputs": [],
   "source": [
    "barsim.record_"
   ]
  },
  {
   "cell_type": "markdown",
   "id": "82353316-335b-4b71-86fd-a5eca6153629",
   "metadata": {},
   "source": [
    "And `finalize` is directly applied to `record_` to compute the mean grain size, the sorting term, and the major facies:"
   ]
  },
  {
   "cell_type": "code",
   "execution_count": null,
   "id": "d6111236-76e8-4afc-83da-32f0bdb5be5b",
   "metadata": {},
   "outputs": [],
   "source": [
    "barsim.finalize()"
   ]
  },
  {
   "cell_type": "code",
   "execution_count": null,
   "id": "d403843c-1f61-41f0-9c43-6f51cbda1dc4",
   "metadata": {},
   "outputs": [],
   "source": [
    "barsim.record_"
   ]
  },
  {
   "cell_type": "markdown",
   "id": "6b663c4f",
   "metadata": {},
   "source": [
    "We can visualize sections through the resulting 3D grid using [xarray's plotting functions](https://docs.xarray.dev/en/stable/user-guide/plotting.html?highlight=plotting):"
   ]
  },
  {
   "cell_type": "code",
   "execution_count": null,
   "id": "7cf13aff",
   "metadata": {},
   "outputs": [],
   "source": [
    "barsim.record_['Mean grain size'][-10].plot(figsize=(8, 6))"
   ]
  },
  {
   "cell_type": "code",
   "execution_count": null,
   "id": "13877415",
   "metadata": {},
   "outputs": [],
   "source": [
    "barsim.record_['Mean grain size'][:, 100].plot(figsize=(12, 5))"
   ]
  },
  {
   "cell_type": "code",
   "execution_count": null,
   "id": "161d2f99",
   "metadata": {},
   "outputs": [],
   "source": [
    "barsim.record_['Deposits'][0, :, 100].plot(figsize=(12, 5))"
   ]
  },
  {
   "cell_type": "markdown",
   "id": "b6abf783-c61e-405c-9cff-181f8890211b",
   "metadata": {},
   "source": [
    "## 3. 3D visualization"
   ]
  },
  {
   "cell_type": "markdown",
   "id": "78d9222e",
   "metadata": {},
   "source": [
    "We first need to create a [PyVista](https://docs.pyvista.org/) mesh for 3D visualization of the sedimentary deposits:"
   ]
  },
  {
   "cell_type": "code",
   "execution_count": null,
   "id": "f07d369b",
   "metadata": {},
   "outputs": [],
   "source": [
    "mesh = barsim.mesh(zscale=50.)"
   ]
  },
  {
   "cell_type": "markdown",
   "id": "a4c05e13",
   "metadata": {},
   "source": [
    "We can then visualize the full 2.5D deposits:"
   ]
  },
  {
   "cell_type": "code",
   "execution_count": null,
   "id": "5190672b-003e-4001-8969-8d26482277b3",
   "metadata": {},
   "outputs": [],
   "source": [
    "p = pv.Plotter()\n",
    "p.add_mesh(mesh.threshold(), scalars='Mean grain size', lighting=False)\n",
    "p.show()"
   ]
  },
  {
   "cell_type": "markdown",
   "id": "ca4e54a9",
   "metadata": {},
   "source": [
    "And visualize slices through the deposits:"
   ]
  },
  {
   "cell_type": "code",
   "execution_count": null,
   "id": "31380684",
   "metadata": {},
   "outputs": [],
   "source": [
    "p = pv.Plotter()\n",
    "p.add_mesh(mesh.threshold().slice_along_axis(n=10, axis='x'), scalars='Major facies', lighting=False)\n",
    "p.add_mesh(mesh.threshold().slice_along_axis(n=10, axis='y'), scalars='Major facies', lighting=False)\n",
    "p.show()"
   ]
  }
 ],
 "metadata": {
  "kernelspec": {
   "display_name": "Python 3 (ipykernel)",
   "language": "python",
   "name": "python3"
  },
  "language_info": {
   "codemirror_mode": {
    "name": "ipython",
    "version": 3
   },
   "file_extension": ".py",
   "mimetype": "text/x-python",
   "name": "python",
   "nbconvert_exporter": "python",
   "pygments_lexer": "ipython3",
   "version": "3.10.13"
  }
 },
 "nbformat": 4,
 "nbformat_minor": 5
}
